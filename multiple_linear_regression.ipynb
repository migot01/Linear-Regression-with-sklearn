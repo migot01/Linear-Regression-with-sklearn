{
  "nbformat": 4,
  "nbformat_minor": 0,
  "metadata": {
    "colab": {
      "name": "multiple linear regression.ipynb",
      "provenance": [],
      "authorship_tag": "ABX9TyM2rk2d+bARSvB2ZNpHuQPs",
      "include_colab_link": true
    },
    "kernelspec": {
      "name": "python3",
      "display_name": "Python 3"
    }
  },
  "cells": [
    {
      "cell_type": "markdown",
      "metadata": {
        "id": "view-in-github",
        "colab_type": "text"
      },
      "source": [
        "<a href=\"https://colab.research.google.com/github/migot01/Linear-Regression-with-sklearn/blob/master/multiple_linear_regression.ipynb\" target=\"_parent\"><img src=\"https://colab.research.google.com/assets/colab-badge.svg\" alt=\"Open In Colab\"/></a>"
      ]
    },
    {
      "cell_type": "code",
      "metadata": {
        "id": "zxiB3aVfOMyR",
        "colab_type": "code",
        "outputId": "68d7cf69-bd00-45a9-b7c7-12962f8d5c97",
        "colab": {
          "base_uri": "https://localhost:8080/",
          "height": 71
        }
      },
      "source": [
        "import numpy as np\n",
        "import pandas as pd\n",
        "import matplotlib.pyplot as plt\n",
        "import seaborn as sns \n",
        "sns.set()\n",
        "\n",
        "from sklearn.linear_model import LinearRegression"
      ],
      "execution_count": 0,
      "outputs": [
        {
          "output_type": "stream",
          "text": [
            "/usr/local/lib/python3.6/dist-packages/statsmodels/tools/_testing.py:19: FutureWarning: pandas.util.testing is deprecated. Use the functions in the public API at pandas.testing instead.\n",
            "  import pandas.util.testing as tm\n"
          ],
          "name": "stderr"
        }
      ]
    },
    {
      "cell_type": "code",
      "metadata": {
        "id": "KkmdOOV7XEVx",
        "colab_type": "code",
        "colab": {}
      },
      "source": [
        "#this loads the spreadsheet from google drive\n",
        "from google.colab import auth\n",
        "auth.authenticate_user()\n",
        "\n",
        "import gspread\n",
        "from oauth2client.client import GoogleCredentials\n",
        "\n",
        "\n",
        "from IPython.display import display\n",
        "gc = gspread.authorize(GoogleCredentials.get_application_default())\n",
        "worksheet = gc.open('test_data2')\n",
        "sheet = worksheet.sheet1 #choose the first sheet\n",
        "import pandas\n",
        "data = pandas.DataFrame(sheet.get_all_records())"
      ],
      "execution_count": 0,
      "outputs": []
    },
    {
      "cell_type": "code",
      "metadata": {
        "id": "4Sq1oSxwXGte",
        "colab_type": "code",
        "outputId": "2b243840-12b0-4289-adbb-100248f2b58e",
        "colab": {
          "base_uri": "https://localhost:8080/",
          "height": 204
        }
      },
      "source": [
        "data.head()"
      ],
      "execution_count": 0,
      "outputs": [
        {
          "output_type": "execute_result",
          "data": {
            "text/html": [
              "<div>\n",
              "<style scoped>\n",
              "    .dataframe tbody tr th:only-of-type {\n",
              "        vertical-align: middle;\n",
              "    }\n",
              "\n",
              "    .dataframe tbody tr th {\n",
              "        vertical-align: top;\n",
              "    }\n",
              "\n",
              "    .dataframe thead th {\n",
              "        text-align: right;\n",
              "    }\n",
              "</style>\n",
              "<table border=\"1\" class=\"dataframe\">\n",
              "  <thead>\n",
              "    <tr style=\"text-align: right;\">\n",
              "      <th></th>\n",
              "      <th>SAT</th>\n",
              "      <th>Rand 1,2,3</th>\n",
              "      <th>GPA</th>\n",
              "    </tr>\n",
              "  </thead>\n",
              "  <tbody>\n",
              "    <tr>\n",
              "      <th>0</th>\n",
              "      <td>1714</td>\n",
              "      <td>1</td>\n",
              "      <td>2.40</td>\n",
              "    </tr>\n",
              "    <tr>\n",
              "      <th>1</th>\n",
              "      <td>1664</td>\n",
              "      <td>3</td>\n",
              "      <td>2.52</td>\n",
              "    </tr>\n",
              "    <tr>\n",
              "      <th>2</th>\n",
              "      <td>1760</td>\n",
              "      <td>3</td>\n",
              "      <td>2.54</td>\n",
              "    </tr>\n",
              "    <tr>\n",
              "      <th>3</th>\n",
              "      <td>1685</td>\n",
              "      <td>3</td>\n",
              "      <td>2.74</td>\n",
              "    </tr>\n",
              "    <tr>\n",
              "      <th>4</th>\n",
              "      <td>1693</td>\n",
              "      <td>2</td>\n",
              "      <td>2.83</td>\n",
              "    </tr>\n",
              "  </tbody>\n",
              "</table>\n",
              "</div>"
            ],
            "text/plain": [
              "    SAT  Rand 1,2,3   GPA\n",
              "0  1714           1  2.40\n",
              "1  1664           3  2.52\n",
              "2  1760           3  2.54\n",
              "3  1685           3  2.74\n",
              "4  1693           2  2.83"
            ]
          },
          "metadata": {
            "tags": []
          },
          "execution_count": 3
        }
      ]
    },
    {
      "cell_type": "code",
      "metadata": {
        "id": "2-SQnQzmXI1P",
        "colab_type": "code",
        "outputId": "35869036-036c-45c6-8713-bd114b10e0f2",
        "colab": {
          "base_uri": "https://localhost:8080/",
          "height": 297
        }
      },
      "source": [
        "data.describe()"
      ],
      "execution_count": 0,
      "outputs": [
        {
          "output_type": "execute_result",
          "data": {
            "text/html": [
              "<div>\n",
              "<style scoped>\n",
              "    .dataframe tbody tr th:only-of-type {\n",
              "        vertical-align: middle;\n",
              "    }\n",
              "\n",
              "    .dataframe tbody tr th {\n",
              "        vertical-align: top;\n",
              "    }\n",
              "\n",
              "    .dataframe thead th {\n",
              "        text-align: right;\n",
              "    }\n",
              "</style>\n",
              "<table border=\"1\" class=\"dataframe\">\n",
              "  <thead>\n",
              "    <tr style=\"text-align: right;\">\n",
              "      <th></th>\n",
              "      <th>SAT</th>\n",
              "      <th>Rand 1,2,3</th>\n",
              "      <th>GPA</th>\n",
              "    </tr>\n",
              "  </thead>\n",
              "  <tbody>\n",
              "    <tr>\n",
              "      <th>count</th>\n",
              "      <td>84.000000</td>\n",
              "      <td>84.000000</td>\n",
              "      <td>84.000000</td>\n",
              "    </tr>\n",
              "    <tr>\n",
              "      <th>mean</th>\n",
              "      <td>1845.273810</td>\n",
              "      <td>2.059524</td>\n",
              "      <td>3.330238</td>\n",
              "    </tr>\n",
              "    <tr>\n",
              "      <th>std</th>\n",
              "      <td>104.530661</td>\n",
              "      <td>0.855192</td>\n",
              "      <td>0.271617</td>\n",
              "    </tr>\n",
              "    <tr>\n",
              "      <th>min</th>\n",
              "      <td>1634.000000</td>\n",
              "      <td>1.000000</td>\n",
              "      <td>2.400000</td>\n",
              "    </tr>\n",
              "    <tr>\n",
              "      <th>25%</th>\n",
              "      <td>1772.000000</td>\n",
              "      <td>1.000000</td>\n",
              "      <td>3.190000</td>\n",
              "    </tr>\n",
              "    <tr>\n",
              "      <th>50%</th>\n",
              "      <td>1846.000000</td>\n",
              "      <td>2.000000</td>\n",
              "      <td>3.380000</td>\n",
              "    </tr>\n",
              "    <tr>\n",
              "      <th>75%</th>\n",
              "      <td>1934.000000</td>\n",
              "      <td>3.000000</td>\n",
              "      <td>3.502500</td>\n",
              "    </tr>\n",
              "    <tr>\n",
              "      <th>max</th>\n",
              "      <td>2050.000000</td>\n",
              "      <td>3.000000</td>\n",
              "      <td>3.810000</td>\n",
              "    </tr>\n",
              "  </tbody>\n",
              "</table>\n",
              "</div>"
            ],
            "text/plain": [
              "               SAT  Rand 1,2,3        GPA\n",
              "count    84.000000   84.000000  84.000000\n",
              "mean   1845.273810    2.059524   3.330238\n",
              "std     104.530661    0.855192   0.271617\n",
              "min    1634.000000    1.000000   2.400000\n",
              "25%    1772.000000    1.000000   3.190000\n",
              "50%    1846.000000    2.000000   3.380000\n",
              "75%    1934.000000    3.000000   3.502500\n",
              "max    2050.000000    3.000000   3.810000"
            ]
          },
          "metadata": {
            "tags": []
          },
          "execution_count": 4
        }
      ]
    },
    {
      "cell_type": "code",
      "metadata": {
        "id": "xBNuTGSLXpjx",
        "colab_type": "code",
        "colab": {}
      },
      "source": [
        "## Create multilinear regression\n",
        "\n",
        "# Declare the dependent and independent variables\n",
        "x = data[['SAT', 'Rand 1,2,3']]\n",
        "y = data['GPA']\n"
      ],
      "execution_count": 0,
      "outputs": []
    },
    {
      "cell_type": "code",
      "metadata": {
        "id": "WSGPwAxDbXJy",
        "colab_type": "code",
        "outputId": "d270feaf-917a-405c-a8d1-ef8109d83e0f",
        "colab": {
          "base_uri": "https://localhost:8080/",
          "height": 34
        }
      },
      "source": [
        "# Regression itself\n",
        "\n",
        "reg = LinearRegression()\n",
        "reg.fit(x,y)"
      ],
      "execution_count": 0,
      "outputs": [
        {
          "output_type": "execute_result",
          "data": {
            "text/plain": [
              "LinearRegression(copy_X=True, fit_intercept=True, n_jobs=None, normalize=False)"
            ]
          },
          "metadata": {
            "tags": []
          },
          "execution_count": 6
        }
      ]
    },
    {
      "cell_type": "code",
      "metadata": {
        "id": "obgXHw_Fb9pV",
        "colab_type": "code",
        "outputId": "050b97a7-9759-4a06-ff84-f59d40f14a8a",
        "colab": {
          "base_uri": "https://localhost:8080/",
          "height": 34
        }
      },
      "source": [
        "reg.coef_"
      ],
      "execution_count": 0,
      "outputs": [
        {
          "output_type": "execute_result",
          "data": {
            "text/plain": [
              "array([ 0.00165354, -0.00826982])"
            ]
          },
          "metadata": {
            "tags": []
          },
          "execution_count": 7
        }
      ]
    },
    {
      "cell_type": "code",
      "metadata": {
        "id": "kKMZJZdNcJrY",
        "colab_type": "code",
        "outputId": "d53f5859-2939-47ad-efbb-5cab78cdff86",
        "colab": {
          "base_uri": "https://localhost:8080/",
          "height": 34
        }
      },
      "source": [
        "reg.intercept_"
      ],
      "execution_count": 0,
      "outputs": [
        {
          "output_type": "execute_result",
          "data": {
            "text/plain": [
              "0.29603261264909486"
            ]
          },
          "metadata": {
            "tags": []
          },
          "execution_count": 8
        }
      ]
    },
    {
      "cell_type": "code",
      "metadata": {
        "id": "MVGaztu3gpbs",
        "colab_type": "code",
        "outputId": "e7985f88-b358-4f05-cb9d-2bdd884aa459",
        "colab": {
          "base_uri": "https://localhost:8080/",
          "height": 34
        }
      },
      "source": [
        "#Calculating R-squared\n",
        "reg.score(x,y)"
      ],
      "execution_count": 0,
      "outputs": [
        {
          "output_type": "execute_result",
          "data": {
            "text/plain": [
              "0.4066811952814285"
            ]
          },
          "metadata": {
            "tags": []
          },
          "execution_count": 9
        }
      ]
    },
    {
      "cell_type": "markdown",
      "metadata": {
        "id": "hA3099SAiCa6",
        "colab_type": "text"
      },
      "source": [
        "$R^2_(adj.) = 1 - (1-R^2)*\\frac(n-1)(n-p-1)$"
      ]
    },
    {
      "cell_type": "code",
      "metadata": {
        "id": "wGcr3-D1hxWi",
        "colab_type": "code",
        "outputId": "dd7c7316-2757-4c7e-9bff-e3c9dfa7d2c0",
        "colab": {
          "base_uri": "https://localhost:8080/",
          "height": 34
        }
      },
      "source": [
        "x.shape"
      ],
      "execution_count": 0,
      "outputs": [
        {
          "output_type": "execute_result",
          "data": {
            "text/plain": [
              "(84, 2)"
            ]
          },
          "metadata": {
            "tags": []
          },
          "execution_count": 10
        }
      ]
    },
    {
      "cell_type": "markdown",
      "metadata": {
        "id": "SMvsX6x-nyJg",
        "colab_type": "text"
      },
      "source": [
        "\n",
        "\n",
        "1.   n = 84 (the number of observations)\n",
        "2.   p = 2 (the number of predictors)\n",
        "\n",
        "\n",
        "\n",
        "\n",
        "\n"
      ]
    },
    {
      "cell_type": "code",
      "metadata": {
        "id": "OQs06QWyj6YY",
        "colab_type": "code",
        "outputId": "7a074253-d133-4a94-f872-ce5dac8dc932",
        "colab": {
          "base_uri": "https://localhost:8080/",
          "height": 34
        }
      },
      "source": [
        "r2 = reg.score(x,y)\n",
        "\n",
        "n = x.shape[0]\n",
        "p = x.shape[1]\n",
        "adjusted_r2 = 1-(1-r2)*(n-1)/(n-p-1)\n",
        "adjusted_r2\n"
      ],
      "execution_count": 0,
      "outputs": [
        {
          "output_type": "execute_result",
          "data": {
            "text/plain": [
              "0.39203134825134023"
            ]
          },
          "metadata": {
            "tags": []
          },
          "execution_count": 11
        }
      ]
    },
    {
      "cell_type": "code",
      "metadata": {
        "id": "Hqc-k4HLpLyG",
        "colab_type": "code",
        "colab": {}
      },
      "source": [
        ""
      ],
      "execution_count": 0,
      "outputs": []
    },
    {
      "cell_type": "markdown",
      "metadata": {
        "id": "593an3j_LZAT",
        "colab_type": "text"
      },
      "source": [
        "## **Feature Selection**"
      ]
    },
    {
      "cell_type": "code",
      "metadata": {
        "id": "KfE7UA3uLdwE",
        "colab_type": "code",
        "outputId": "428e741a-704f-4e82-f2ae-e54479d504b0",
        "colab": {
          "base_uri": "https://localhost:8080/",
          "height": 34
        }
      },
      "source": [
        "from sklearn.feature_selection import f_regression\n",
        "f_regression(x,y)"
      ],
      "execution_count": 0,
      "outputs": [
        {
          "output_type": "execute_result",
          "data": {
            "text/plain": [
              "(array([56.04804786,  0.17558437]), array([7.19951844e-11, 6.76291372e-01]))"
            ]
          },
          "metadata": {
            "tags": []
          },
          "execution_count": 12
        }
      ]
    },
    {
      "cell_type": "code",
      "metadata": {
        "id": "cGptjv6kL0DX",
        "colab_type": "code",
        "colab": {}
      },
      "source": [
        "p_values = f_regression(x,y)[1]"
      ],
      "execution_count": 0,
      "outputs": []
    },
    {
      "cell_type": "code",
      "metadata": {
        "id": "Gk0JSd2JMAtp",
        "colab_type": "code",
        "outputId": "ade98a31-5d9c-411d-a82f-d29c3bc3d6ae",
        "colab": {
          "base_uri": "https://localhost:8080/",
          "height": 34
        }
      },
      "source": [
        "p_values"
      ],
      "execution_count": 0,
      "outputs": [
        {
          "output_type": "execute_result",
          "data": {
            "text/plain": [
              "array([7.19951844e-11, 6.76291372e-01])"
            ]
          },
          "metadata": {
            "tags": []
          },
          "execution_count": 14
        }
      ]
    },
    {
      "cell_type": "code",
      "metadata": {
        "id": "F7senLBDMimC",
        "colab_type": "code",
        "outputId": "e07ead6c-c7dc-41f2-b2d3-6cfc656e06de",
        "colab": {
          "base_uri": "https://localhost:8080/",
          "height": 34
        }
      },
      "source": [
        "p_values.round(3)"
      ],
      "execution_count": 0,
      "outputs": [
        {
          "output_type": "execute_result",
          "data": {
            "text/plain": [
              "array([0.   , 0.676])"
            ]
          },
          "metadata": {
            "tags": []
          },
          "execution_count": 16
        }
      ]
    },
    {
      "cell_type": "code",
      "metadata": {
        "id": "tlCFMPHHMmTc",
        "colab_type": "code",
        "colab": {}
      },
      "source": [
        ""
      ],
      "execution_count": 0,
      "outputs": []
    },
    {
      "cell_type": "markdown",
      "metadata": {
        "id": "6FuFJvHQX11w",
        "colab_type": "text"
      },
      "source": [
        "# Standardization"
      ]
    },
    {
      "cell_type": "code",
      "metadata": {
        "id": "IBTuJm8_X7YU",
        "colab_type": "code",
        "colab": {}
      },
      "source": [
        "from sklearn.preprocessing import StandardScaler\n"
      ],
      "execution_count": 0,
      "outputs": []
    },
    {
      "cell_type": "code",
      "metadata": {
        "id": "QFl0shn-YEGm",
        "colab_type": "code",
        "colab": {}
      },
      "source": [
        "scaler = StandardScaler()"
      ],
      "execution_count": 0,
      "outputs": []
    },
    {
      "cell_type": "code",
      "metadata": {
        "id": "LwcaQEgOYIgV",
        "colab_type": "code",
        "outputId": "ecb9a31f-2222-4265-cb62-3fee8868caf3",
        "colab": {
          "base_uri": "https://localhost:8080/",
          "height": 34
        }
      },
      "source": [
        "scaler.fit(x,y)"
      ],
      "execution_count": 0,
      "outputs": [
        {
          "output_type": "execute_result",
          "data": {
            "text/plain": [
              "StandardScaler(copy=True, with_mean=True, with_std=True)"
            ]
          },
          "metadata": {
            "tags": []
          },
          "execution_count": 19
        }
      ]
    },
    {
      "cell_type": "code",
      "metadata": {
        "id": "fi7--Bf1YLpB",
        "colab_type": "code",
        "colab": {}
      },
      "source": [
        "x_scaled = scaler.transform(x)"
      ],
      "execution_count": 0,
      "outputs": []
    },
    {
      "cell_type": "code",
      "metadata": {
        "id": "Qxf78ibIaNgR",
        "colab_type": "code",
        "outputId": "dcb449bc-485a-426d-e958-cf0611b10ce0",
        "colab": {
          "base_uri": "https://localhost:8080/",
          "height": 1000
        }
      },
      "source": [
        "x_scaled"
      ],
      "execution_count": 0,
      "outputs": [
        {
          "output_type": "execute_result",
          "data": {
            "text/plain": [
              "array([[-1.26338288, -1.24637147],\n",
              "       [-1.74458431,  1.10632974],\n",
              "       [-0.82067757,  1.10632974],\n",
              "       [-1.54247971,  1.10632974],\n",
              "       [-1.46548748, -0.07002087],\n",
              "       [-1.68684014, -1.24637147],\n",
              "       [-0.78218146, -0.07002087],\n",
              "       [-0.78218146, -1.24637147],\n",
              "       [-0.51270866, -0.07002087],\n",
              "       [ 0.04548499,  1.10632974],\n",
              "       [-1.06127829,  1.10632974],\n",
              "       [-0.67631715, -0.07002087],\n",
              "       [-1.06127829, -1.24637147],\n",
              "       [-1.28263094,  1.10632974],\n",
              "       [-0.6955652 , -0.07002087],\n",
              "       [ 0.25721362, -0.07002087],\n",
              "       [-0.86879772,  1.10632974],\n",
              "       [-1.64834403, -0.07002087],\n",
              "       [-0.03150724,  1.10632974],\n",
              "       [-0.57045283,  1.10632974],\n",
              "       [-0.81105355,  1.10632974],\n",
              "       [-1.18639066,  1.10632974],\n",
              "       [-1.75420834,  1.10632974],\n",
              "       [-1.52323165, -1.24637147],\n",
              "       [ 1.23886453, -1.24637147],\n",
              "       [-0.18549169, -1.24637147],\n",
              "       [-0.5608288 , -1.24637147],\n",
              "       [-0.23361183,  1.10632974],\n",
              "       [ 1.68156984, -1.24637147],\n",
              "       [-0.4934606 , -0.07002087],\n",
              "       [-0.73406132, -1.24637147],\n",
              "       [ 0.85390339, -1.24637147],\n",
              "       [-0.67631715, -1.24637147],\n",
              "       [ 0.09360513,  1.10632974],\n",
              "       [ 0.33420585, -0.07002087],\n",
              "       [ 0.03586096, -0.07002087],\n",
              "       [-0.35872421,  1.10632974],\n",
              "       [ 1.04638396,  1.10632974],\n",
              "       [-0.65706909,  1.10632974],\n",
              "       [-0.13737155, -0.07002087],\n",
              "       [ 0.18984542,  1.10632974],\n",
              "       [ 0.04548499, -1.24637147],\n",
              "       [ 1.1618723 ,  1.10632974],\n",
              "       [-1.37887123, -1.24637147],\n",
              "       [ 1.39284898, -1.24637147],\n",
              "       [ 0.76728713, -0.07002087],\n",
              "       [-0.20473975, -0.07002087],\n",
              "       [ 1.06563201, -1.24637147],\n",
              "       [ 0.11285319, -1.24637147],\n",
              "       [ 1.28698467,  1.10632974],\n",
              "       [-0.41646838,  1.10632974],\n",
              "       [ 0.09360513, -1.24637147],\n",
              "       [ 0.59405462, -0.07002087],\n",
              "       [-2.03330517, -0.07002087],\n",
              "       [ 0.32458182, -1.24637147],\n",
              "       [ 0.40157405, -1.24637147],\n",
              "       [-1.10939843, -0.07002087],\n",
              "       [ 1.03675993, -1.24637147],\n",
              "       [-0.61857297, -0.07002087],\n",
              "       [ 0.44007016, -0.07002087],\n",
              "       [ 1.14262424, -1.24637147],\n",
              "       [-0.35872421,  1.10632974],\n",
              "       [ 0.45931822,  1.10632974],\n",
              "       [ 1.88367444,  1.10632974],\n",
              "       [ 0.45931822, -1.24637147],\n",
              "       [-0.12774752, -0.07002087],\n",
              "       [ 0.04548499,  1.10632974],\n",
              "       [ 0.85390339, -0.07002087],\n",
              "       [ 0.15134931, -0.07002087],\n",
              "       [ 0.8250313 ,  1.10632974],\n",
              "       [ 0.84427936,  1.10632974],\n",
              "       [-0.64744506, -1.24637147],\n",
              "       [ 1.24848856, -1.24637147],\n",
              "       [ 0.85390339,  1.10632974],\n",
              "       [ 1.69119387,  1.10632974],\n",
              "       [ 1.6334497 ,  1.10632974],\n",
              "       [ 1.46021718, -1.24637147],\n",
              "       [ 1.68156984, -0.07002087],\n",
              "       [-0.02188321,  1.10632974],\n",
              "       [ 0.87315144,  1.10632974],\n",
              "       [-0.33947615, -1.24637147],\n",
              "       [ 1.3639769 ,  1.10632974],\n",
              "       [ 1.12337618, -1.24637147],\n",
              "       [ 1.97029069, -0.07002087]])"
            ]
          },
          "metadata": {
            "tags": []
          },
          "execution_count": 21
        }
      ]
    },
    {
      "cell_type": "code",
      "metadata": {
        "id": "WZMWiUmraOxn",
        "colab_type": "code",
        "colab": {}
      },
      "source": [
        ""
      ],
      "execution_count": 0,
      "outputs": []
    }
  ]
}